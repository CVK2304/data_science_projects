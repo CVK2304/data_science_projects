{
 "cells": [
  {
   "cell_type": "code",
   "execution_count": null,
   "id": "f8a985d9-eee4-48ca-9731-010e99c48473",
   "metadata": {},
   "outputs": [],
   "source": [
    "import pandas as pd\n",
    "import matplotlib.pyplot as plt\n",
    "import seaborn as sns\n",
    "import folium\n",
    "from folium.plugins import HeatMap\n",
    "import streamlit as st\n",
    "import geopandas as gpd\n",
    "from streamlit_folium import folium_static\n",
    "from sklearn.ensemble import RandomForestRegressor\n",
    "import requests\n",
    "import osmnx as ox\n",
    "import networkx as nx"
   ]
  },
  {
   "cell_type": "code",
   "execution_count": null,
   "id": "90701386-1173-4811-beb9-8d9c37769529",
   "metadata": {},
   "outputs": [],
   "source": [
    "df_points = pd.read_csv(\"GPS Trajectory/go_track_trackspoints.csv\")\n",
    "df_tracks = pd.read_csv(\"GPS Trajectory/go_track_tracks.csv\")\n"
   ]
  },
  {
   "cell_type": "code",
   "execution_count": null,
   "id": "70db56b5-0003-4413-ad68-b77d2448e647",
   "metadata": {},
   "outputs": [],
   "source": [
    "df_merged = df_points.merge(df_tracks, left_on=\"track_id\", right_on=\"id\", how=\"left\")"
   ]
  },
  {
   "cell_type": "code",
   "execution_count": null,
   "id": "17370e1e-72dd-44cb-9565-b256885b42ed",
   "metadata": {},
   "outputs": [],
   "source": [
    "df_final = df_merged[[\"time_x\", \"latitude\", \"longitude\", \"speed\", \"track_id\"]].copy()\n",
    "df_final.rename(columns={\"time_x\": \"timestamp\", \"track_id\": \"road_id\"}, inplace=True)\n"
   ]
  },
  {
   "cell_type": "code",
   "execution_count": null,
   "id": "474a5f08-2d2a-4011-89ef-3dc0f794d167",
   "metadata": {},
   "outputs": [],
   "source": [
    "df_final[\"timestamp\"] = pd.to_datetime(df_final[\"timestamp\"])"
   ]
  },
  {
   "cell_type": "code",
   "execution_count": null,
   "id": "dc22cc4d-5b27-4b53-baeb-8c3d28448d31",
   "metadata": {},
   "outputs": [],
   "source": [
    "df_final[\"hour\"] = df_final[\"timestamp\"].dt.hour"
   ]
  },
  {
   "cell_type": "code",
   "execution_count": null,
   "id": "09bfe99c-dcb2-44da-b4f7-13ecc324b5a9",
   "metadata": {},
   "outputs": [],
   "source": [
    "peak_hours = df_final.groupby(\"hour\")[\"speed\"].mean().reset_index()"
   ]
  },
  {
   "cell_type": "code",
   "execution_count": null,
   "id": "6759418f-f362-47c3-85b3-2ba5715e82a3",
   "metadata": {},
   "outputs": [],
   "source": [
    "X = df_final[[\"hour\"]]\n",
    "y = df_final[\"speed\"]\n",
    "model = RandomForestRegressor()\n",
    "model.fit(X, y)\n",
    "\n",
    "def predict_speed(hour):\n",
    "    return model.predict([[hour]])[0]"
   ]
  },
  {
   "cell_type": "code",
   "execution_count": null,
   "id": "4b12b0d4-15cd-4750-9f5d-15e31e55cfd8",
   "metadata": {},
   "outputs": [],
   "source": [
    "gdf = gpd.GeoDataFrame(df_final, geometry=gpd.points_from_xy(df_final.longitude, df_final.latitude))"
   ]
  },
  {
   "cell_type": "code",
   "execution_count": null,
   "id": "59d99336-adaf-4068-87d6-10c65018de70",
   "metadata": {},
   "outputs": [],
   "source": [
    "st.title(\"Traffic Congestion Analysis\")\n",
    "st.write(\"Explore traffic congestion patterns and predictions.\")"
   ]
  },
  {
   "cell_type": "code",
   "execution_count": null,
   "id": "2e6d7653-2459-4f03-8930-18919aa40a8e",
   "metadata": {},
   "outputs": [],
   "source": [
    "st.subheader(\"Peak Traffic Hours\")\n",
    "fig, ax = plt.subplots()\n",
    "sns.lineplot(data=peak_hours, x=\"hour\", y=\"speed\", marker=\"o\", ax=ax)\n",
    "ax.set_title(\"Average Speed by Hour\")\n",
    "ax.set_xlabel(\"Hour of the Day\")\n",
    "ax.set_ylabel(\"Average Speed (km/h)\")\n",
    "st.pyplot(fig)"
   ]
  },
  {
   "cell_type": "code",
   "execution_count": null,
   "id": "6a5f3bbc-d160-440d-8570-65177d52c0f0",
   "metadata": {},
   "outputs": [],
   "source": [
    "st.subheader(\"Predict Traffic Congestion\")\n",
    "hour_input = st.slider(\"Select an hour\", 0, 23, 12)\n",
    "predicted_speed = predict_speed(hour_input)\n",
    "st.write(f\"Predicted average speed at {hour_input}:00 is {predicted_speed:.2f} km/h\")\n"
   ]
  },
  {
   "cell_type": "code",
   "execution_count": null,
   "id": "0be5e926-cbd9-4f49-854f-c5d90d839b6f",
   "metadata": {},
   "outputs": [],
   "source": [
    "bottleneck_threshold = df_final[\"speed\"].quantile(0.25)\n",
    "bottleneck_zones = df_final[df_final[\"speed\"] <= bottleneck_threshold]"
   ]
  },
  {
   "cell_type": "code",
   "execution_count": null,
   "id": "6774ad2e-cd93-450b-af02-e7b7bf87a215",
   "metadata": {},
   "outputs": [],
   "source": [
    "m = folium.Map(location=[df_final[\"latitude\"].mean(), df_final[\"longitude\"].mean()], zoom_start=12)\n",
    "heat_data = list(zip(bottleneck_zones[\"latitude\"], bottleneck_zones[\"longitude\"], bottleneck_zones[\"speed\"]))\n",
    "HeatMap(heat_data).add_to(m)"
   ]
  },
  {
   "cell_type": "code",
   "execution_count": null,
   "id": "8a82429b-c5f9-41ee-a9e4-f2c0798c5a72",
   "metadata": {},
   "outputs": [],
   "source": [
    "st.subheader(\"Traffic Congestion Heatmap\")\n",
    "folium_static(m)\n"
   ]
  },
  {
   "cell_type": "code",
   "execution_count": null,
   "id": "e44fc3a3-098f-4076-a0a2-e5e3e4599305",
   "metadata": {},
   "outputs": [],
   "source": [
    "\n",
    "# Recommendations\n",
    "st.subheader(\"Recommendations for Traffic Optimization\")\n",
    "st.write(\"1. Implement adaptive traffic signal control at identified bottleneck zones.\")\n",
    "st.write(\"2. Encourage alternate routes during peak traffic hours.\")\n",
    "st.write(\"3. Optimize public transport schedules based on congestion patterns.\")\n",
    "st.write(\"4. Introduce congestion pricing for high-traffic areas to reduce peak demand.\")\n"
   ]
  }
 ],
 "metadata": {
  "kernelspec": {
   "display_name": "Python 3 (ipykernel)",
   "language": "python",
   "name": "python3"
  },
  "language_info": {
   "codemirror_mode": {
    "name": "ipython",
    "version": 3
   },
   "file_extension": ".py",
   "mimetype": "text/x-python",
   "name": "python",
   "nbconvert_exporter": "python",
   "pygments_lexer": "ipython3",
   "version": "3.12.0"
  }
 },
 "nbformat": 4,
 "nbformat_minor": 5
}
